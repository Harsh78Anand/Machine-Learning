{
  "nbformat": 4,
  "nbformat_minor": 0,
  "metadata": {
    "colab": {
      "name": "ExtraTreesClassifier_HR dataset",
      "provenance": [],
      "collapsed_sections": []
    },
    "kernelspec": {
      "name": "python3",
      "display_name": "Python 3"
    }
  },
  "cells": [
    {
      "cell_type": "code",
      "metadata": {
        "id": "R4pfUSVOA21s"
      },
      "source": [
        "import pandas as pd\n",
        "from sklearn.model_selection import train_test_split\n",
        "import numpy as np\n",
        "import matplotlib.pyplot as plt\n",
        "from sklearn.ensemble import ExtraTreesClassifier"
      ],
      "execution_count": null,
      "outputs": []
    },
    {
      "cell_type": "code",
      "metadata": {
        "id": "4i0yIgVFBcOb",
        "colab": {
          "base_uri": "https://localhost:8080/",
          "height": 252
        },
        "outputId": "41561429-3ab0-4130-ac8d-05f2ba96a48a"
      },
      "source": [
        "hrdata=pd.read_csv('/content/sample_data/HR.csv')\n",
        "print(hrdata)"
      ],
      "execution_count": null,
      "outputs": [
        {
          "output_type": "stream",
          "text": [
            "       satisfaction_level  last_evaluation  ...    sales  salary\n",
            "0                    0.38             0.53  ...    sales     low\n",
            "1                    0.80             0.86  ...    sales  medium\n",
            "2                    0.11             0.88  ...    sales  medium\n",
            "3                    0.72             0.87  ...    sales     low\n",
            "4                    0.37             0.52  ...    sales     low\n",
            "...                   ...              ...  ...      ...     ...\n",
            "14994                0.40             0.57  ...  support     low\n",
            "14995                0.37             0.48  ...  support     low\n",
            "14996                0.37             0.53  ...  support     low\n",
            "14997                0.11             0.96  ...  support     low\n",
            "14998                0.37             0.52  ...  support     low\n",
            "\n",
            "[14999 rows x 10 columns]\n"
          ],
          "name": "stdout"
        }
      ]
    },
    {
      "cell_type": "code",
      "metadata": {
        "id": "63MTKBaWBxqj"
      },
      "source": [
        "hrdata=hrdata.rename(columns={'sales':'department'})"
      ],
      "execution_count": null,
      "outputs": []
    },
    {
      "cell_type": "code",
      "metadata": {
        "id": "BCx1KbPaCVoN",
        "colab": {
          "base_uri": "https://localhost:8080/",
          "height": 151
        },
        "outputId": "6a5c7ed4-da38-4969-cbdc-ec44641f26ba"
      },
      "source": [
        "Y=hrdata.iloc[:,6]\n",
        "X=hrdata.drop('left', axis=1)\n",
        "print(X.head())"
      ],
      "execution_count": null,
      "outputs": [
        {
          "output_type": "stream",
          "text": [
            "   satisfaction_level  last_evaluation  ...  department  salary\n",
            "0                0.38             0.53  ...       sales     low\n",
            "1                0.80             0.86  ...       sales  medium\n",
            "2                0.11             0.88  ...       sales  medium\n",
            "3                0.72             0.87  ...       sales     low\n",
            "4                0.37             0.52  ...       sales     low\n",
            "\n",
            "[5 rows x 9 columns]\n"
          ],
          "name": "stdout"
        }
      ]
    },
    {
      "cell_type": "code",
      "metadata": {
        "id": "41fjfPVAEz8l",
        "colab": {
          "base_uri": "https://localhost:8080/",
          "height": 215
        },
        "outputId": "46f83db4-195f-4eb1-b07c-b19fee7f09b3"
      },
      "source": [
        "X=pd.get_dummies(X)\n",
        "X.head()"
      ],
      "execution_count": null,
      "outputs": [
        {
          "output_type": "execute_result",
          "data": {
            "text/html": [
              "<div>\n",
              "<style scoped>\n",
              "    .dataframe tbody tr th:only-of-type {\n",
              "        vertical-align: middle;\n",
              "    }\n",
              "\n",
              "    .dataframe tbody tr th {\n",
              "        vertical-align: top;\n",
              "    }\n",
              "\n",
              "    .dataframe thead th {\n",
              "        text-align: right;\n",
              "    }\n",
              "</style>\n",
              "<table border=\"1\" class=\"dataframe\">\n",
              "  <thead>\n",
              "    <tr style=\"text-align: right;\">\n",
              "      <th></th>\n",
              "      <th>satisfaction_level</th>\n",
              "      <th>last_evaluation</th>\n",
              "      <th>number_project</th>\n",
              "      <th>average_montly_hours</th>\n",
              "      <th>time_spend_company</th>\n",
              "      <th>Work_accident</th>\n",
              "      <th>promotion_last_5years</th>\n",
              "      <th>department_IT</th>\n",
              "      <th>department_RandD</th>\n",
              "      <th>department_accounting</th>\n",
              "      <th>department_hr</th>\n",
              "      <th>department_management</th>\n",
              "      <th>department_marketing</th>\n",
              "      <th>department_product_mng</th>\n",
              "      <th>department_sales</th>\n",
              "      <th>department_support</th>\n",
              "      <th>department_technical</th>\n",
              "      <th>salary_high</th>\n",
              "      <th>salary_low</th>\n",
              "      <th>salary_medium</th>\n",
              "    </tr>\n",
              "  </thead>\n",
              "  <tbody>\n",
              "    <tr>\n",
              "      <th>0</th>\n",
              "      <td>0.38</td>\n",
              "      <td>0.53</td>\n",
              "      <td>2</td>\n",
              "      <td>157</td>\n",
              "      <td>3</td>\n",
              "      <td>0</td>\n",
              "      <td>0</td>\n",
              "      <td>0</td>\n",
              "      <td>0</td>\n",
              "      <td>0</td>\n",
              "      <td>0</td>\n",
              "      <td>0</td>\n",
              "      <td>0</td>\n",
              "      <td>0</td>\n",
              "      <td>1</td>\n",
              "      <td>0</td>\n",
              "      <td>0</td>\n",
              "      <td>0</td>\n",
              "      <td>1</td>\n",
              "      <td>0</td>\n",
              "    </tr>\n",
              "    <tr>\n",
              "      <th>1</th>\n",
              "      <td>0.80</td>\n",
              "      <td>0.86</td>\n",
              "      <td>5</td>\n",
              "      <td>262</td>\n",
              "      <td>6</td>\n",
              "      <td>0</td>\n",
              "      <td>0</td>\n",
              "      <td>0</td>\n",
              "      <td>0</td>\n",
              "      <td>0</td>\n",
              "      <td>0</td>\n",
              "      <td>0</td>\n",
              "      <td>0</td>\n",
              "      <td>0</td>\n",
              "      <td>1</td>\n",
              "      <td>0</td>\n",
              "      <td>0</td>\n",
              "      <td>0</td>\n",
              "      <td>0</td>\n",
              "      <td>1</td>\n",
              "    </tr>\n",
              "    <tr>\n",
              "      <th>2</th>\n",
              "      <td>0.11</td>\n",
              "      <td>0.88</td>\n",
              "      <td>7</td>\n",
              "      <td>272</td>\n",
              "      <td>4</td>\n",
              "      <td>0</td>\n",
              "      <td>0</td>\n",
              "      <td>0</td>\n",
              "      <td>0</td>\n",
              "      <td>0</td>\n",
              "      <td>0</td>\n",
              "      <td>0</td>\n",
              "      <td>0</td>\n",
              "      <td>0</td>\n",
              "      <td>1</td>\n",
              "      <td>0</td>\n",
              "      <td>0</td>\n",
              "      <td>0</td>\n",
              "      <td>0</td>\n",
              "      <td>1</td>\n",
              "    </tr>\n",
              "    <tr>\n",
              "      <th>3</th>\n",
              "      <td>0.72</td>\n",
              "      <td>0.87</td>\n",
              "      <td>5</td>\n",
              "      <td>223</td>\n",
              "      <td>5</td>\n",
              "      <td>0</td>\n",
              "      <td>0</td>\n",
              "      <td>0</td>\n",
              "      <td>0</td>\n",
              "      <td>0</td>\n",
              "      <td>0</td>\n",
              "      <td>0</td>\n",
              "      <td>0</td>\n",
              "      <td>0</td>\n",
              "      <td>1</td>\n",
              "      <td>0</td>\n",
              "      <td>0</td>\n",
              "      <td>0</td>\n",
              "      <td>1</td>\n",
              "      <td>0</td>\n",
              "    </tr>\n",
              "    <tr>\n",
              "      <th>4</th>\n",
              "      <td>0.37</td>\n",
              "      <td>0.52</td>\n",
              "      <td>2</td>\n",
              "      <td>159</td>\n",
              "      <td>3</td>\n",
              "      <td>0</td>\n",
              "      <td>0</td>\n",
              "      <td>0</td>\n",
              "      <td>0</td>\n",
              "      <td>0</td>\n",
              "      <td>0</td>\n",
              "      <td>0</td>\n",
              "      <td>0</td>\n",
              "      <td>0</td>\n",
              "      <td>1</td>\n",
              "      <td>0</td>\n",
              "      <td>0</td>\n",
              "      <td>0</td>\n",
              "      <td>1</td>\n",
              "      <td>0</td>\n",
              "    </tr>\n",
              "  </tbody>\n",
              "</table>\n",
              "</div>"
            ],
            "text/plain": [
              "   satisfaction_level  last_evaluation  ...  salary_low  salary_medium\n",
              "0                0.38             0.53  ...           1              0\n",
              "1                0.80             0.86  ...           0              1\n",
              "2                0.11             0.88  ...           0              1\n",
              "3                0.72             0.87  ...           1              0\n",
              "4                0.37             0.52  ...           1              0\n",
              "\n",
              "[5 rows x 20 columns]"
            ]
          },
          "metadata": {
            "tags": []
          },
          "execution_count": 7
        }
      ]
    },
    {
      "cell_type": "markdown",
      "metadata": {
        "id": "0xxlAoT6GjTh"
      },
      "source": [
        "**Dummy Trapping**"
      ]
    },
    {
      "cell_type": "code",
      "metadata": {
        "id": "vPq4ZDetFPkg",
        "colab": {
          "base_uri": "https://localhost:8080/",
          "height": 826
        },
        "outputId": "292d9139-c804-44c0-a742-e6d7abee51c6"
      },
      "source": [
        "import statsmodels.api as sm\n",
        "ols=sm.OLS(endog=Y,exog=X).fit()\n",
        "print(ols.summary())"
      ],
      "execution_count": null,
      "outputs": [
        {
          "output_type": "stream",
          "text": [
            "/usr/local/lib/python3.6/dist-packages/statsmodels/tools/_testing.py:19: FutureWarning: pandas.util.testing is deprecated. Use the functions in the public API at pandas.testing instead.\n",
            "  import pandas.util.testing as tm\n"
          ],
          "name": "stderr"
        },
        {
          "output_type": "stream",
          "text": [
            "                            OLS Regression Results                            \n",
            "==============================================================================\n",
            "Dep. Variable:                   left   R-squared:                       0.215\n",
            "Model:                            OLS   Adj. R-squared:                  0.215\n",
            "Method:                 Least Squares   F-statistic:                     228.6\n",
            "Date:                Wed, 15 Jul 2020   Prob (F-statistic):               0.00\n",
            "Time:                        07:56:23   Log-Likelihood:                -6660.5\n",
            "No. Observations:               14999   AIC:                         1.336e+04\n",
            "Df Residuals:                   14980   BIC:                         1.350e+04\n",
            "Df Model:                          18                                         \n",
            "Covariance Type:            nonrobust                                         \n",
            "==========================================================================================\n",
            "                             coef    std err          t      P>|t|      [0.025      0.975]\n",
            "------------------------------------------------------------------------------------------\n",
            "satisfaction_level        -0.6440      0.013    -50.260      0.000      -0.669      -0.619\n",
            "last_evaluation            0.0873      0.020      4.349      0.000       0.048       0.127\n",
            "number_project            -0.0341      0.003    -11.696      0.000      -0.040      -0.028\n",
            "average_montly_hours       0.0006   6.98e-05      9.187      0.000       0.001       0.001\n",
            "time_spend_company         0.0364      0.002     16.634      0.000       0.032       0.041\n",
            "Work_accident             -0.1554      0.009    -17.680      0.000      -0.173      -0.138\n",
            "promotion_last_5years     -0.1120      0.022     -5.153      0.000      -0.155      -0.069\n",
            "department_IT              0.0859      0.011      7.661      0.000       0.064       0.108\n",
            "department_RandD           0.0361      0.013      2.690      0.007       0.010       0.062\n",
            "department_accounting      0.1114      0.014      8.245      0.000       0.085       0.138\n",
            "department_hr              0.1460      0.014     10.667      0.000       0.119       0.173\n",
            "department_management      0.0490      0.015      3.209      0.001       0.019       0.079\n",
            "department_marketing       0.1089      0.013      8.429      0.000       0.084       0.134\n",
            "department_product_mng     0.0873      0.013      6.888      0.000       0.062       0.112\n",
            "department_sales           0.1062      0.007     14.221      0.000       0.092       0.121\n",
            "department_support         0.1173      0.009     13.008      0.000       0.100       0.135\n",
            "department_technical       0.1187      0.008     14.042      0.000       0.102       0.135\n",
            "salary_high                0.2158      0.017     12.459      0.000       0.182       0.250\n",
            "salary_low                 0.4147      0.015     28.297      0.000       0.386       0.443\n",
            "salary_medium              0.3362      0.015     22.584      0.000       0.307       0.365\n",
            "==============================================================================\n",
            "Omnibus:                     1305.185   Durbin-Watson:                   0.395\n",
            "Prob(Omnibus):                  0.000   Jarque-Bera (JB):             1560.771\n",
            "Skew:                           0.768   Prob(JB):                         0.00\n",
            "Kurtosis:                       2.629   Cond. No.                     1.46e+18\n",
            "==============================================================================\n",
            "\n",
            "Warnings:\n",
            "[1] Standard Errors assume that the covariance matrix of the errors is correctly specified.\n",
            "[2] The smallest eigenvalue is 3.02e-28. This might indicate that there are\n",
            "strong multicollinearity problems or that the design matrix is singular.\n"
          ],
          "name": "stdout"
        }
      ]
    },
    {
      "cell_type": "markdown",
      "metadata": {
        "id": "o-D5_6JXGZY8"
      },
      "source": [
        "**Feature Importance**"
      ]
    },
    {
      "cell_type": "code",
      "metadata": {
        "id": "fe4yBMnyF18v",
        "colab": {
          "base_uri": "https://localhost:8080/",
          "height": 370
        },
        "outputId": "b5953f1b-90db-443a-df46-cab6123d6b3b"
      },
      "source": [
        "model1=ExtraTreesClassifier()\n",
        "model1.fit(X,Y)\n",
        "feature_imp=pd.Series(model1.feature_importances_,index=X.columns)\n",
        "print(feature_imp)"
      ],
      "execution_count": null,
      "outputs": [
        {
          "output_type": "stream",
          "text": [
            "satisfaction_level        0.230441\n",
            "last_evaluation           0.139879\n",
            "number_project            0.236862\n",
            "average_montly_hours      0.141648\n",
            "time_spend_company        0.171480\n",
            "Work_accident             0.018523\n",
            "promotion_last_5years     0.003027\n",
            "department_IT             0.003047\n",
            "department_RandD          0.003179\n",
            "department_accounting     0.003207\n",
            "department_hr             0.003047\n",
            "department_management     0.002452\n",
            "department_marketing      0.002145\n",
            "department_product_mng    0.002721\n",
            "department_sales          0.004934\n",
            "department_support        0.004565\n",
            "department_technical      0.005042\n",
            "salary_high               0.007872\n",
            "salary_low                0.010939\n",
            "salary_medium             0.004990\n",
            "dtype: float64\n"
          ],
          "name": "stdout"
        }
      ]
    },
    {
      "cell_type": "markdown",
      "metadata": {
        "id": "-IaY5AgIK8Z5"
      },
      "source": [
        "Logistic Regression"
      ]
    },
    {
      "cell_type": "code",
      "metadata": {
        "id": "nfgT987uKhnh"
      },
      "source": [
        "from sklearn.linear_model import LogisticRegression\n",
        "LR=LogisticRegression(random_state=0).fit(X,Y)\n",
        "LR.predict_proba(X.iloc[:,0])\n",
        "LR.score(X,Y)"
      ],
      "execution_count": null,
      "outputs": []
    },
    {
      "cell_type": "markdown",
      "metadata": {
        "id": "69c_4J9EL2P8"
      },
      "source": [
        "**Confusion Matrix and Classification Report**"
      ]
    },
    {
      "cell_type": "code",
      "metadata": {
        "id": "5A_FSgj7LJCD"
      },
      "source": [
        "from sklearn.metrics import confusion_matrix,classification_report\n",
        "Y_predict=model.predict(X)\n",
        "print(confusion_matrix(Y,Y_predict))\n",
        "print(classification_report(Y,Y_predict))"
      ],
      "execution_count": null,
      "outputs": []
    }
  ]
}