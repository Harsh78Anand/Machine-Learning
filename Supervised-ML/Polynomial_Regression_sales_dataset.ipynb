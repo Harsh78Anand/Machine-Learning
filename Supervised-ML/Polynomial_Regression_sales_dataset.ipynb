{
  "nbformat": 4,
  "nbformat_minor": 0,
  "metadata": {
    "colab": {
      "name": "Polynomial_Regression_sales_dataset",
      "provenance": [],
      "collapsed_sections": []
    },
    "kernelspec": {
      "name": "python3",
      "display_name": "Python 3"
    }
  },
  "cells": [
    {
      "cell_type": "markdown",
      "metadata": {
        "id": "QACLQTvaB4C-"
      },
      "source": [
        "**Polynomial Regression**"
      ]
    },
    {
      "cell_type": "code",
      "metadata": {
        "id": "1D5J3GywBMx_"
      },
      "source": [
        "from sklearn.preprocessing import PolynomialFeatures\n",
        "from sklearn.linear_model import LinearRegression\n",
        "import numpy as np\n",
        "import pandas as pd\n",
        "import matplotlib.pyplot as plt"
      ],
      "execution_count": 1,
      "outputs": []
    },
    {
      "cell_type": "code",
      "metadata": {
        "id": "QKcBahT1COgB",
        "colab": {
          "base_uri": "https://localhost:8080/"
        },
        "outputId": "99e077e2-3837-4f84-c211-974678d58e81"
      },
      "source": [
        "sal_data = pd.read_csv('Sales_dataset.csv')\n",
        "print(sal_data)\n"
      ],
      "execution_count": 2,
      "outputs": [
        {
          "output_type": "stream",
          "name": "stdout",
          "text": [
            "      Depatment  WorkedHours  Certification  YearsExperience  Salary\n",
            "0   Development         2300              0              1.1   39343\n",
            "1       Testing         2100              1              1.3   46205\n",
            "2   Development         2104              2              1.5   37731\n",
            "3   UX Designer         1200              1              2.0   43525\n",
            "4       Testing         1254              2              2.2   39891\n",
            "5   UX Designer         1236              1              2.9   56642\n",
            "6   Development         1452              2              3.0   60150\n",
            "7       Testing         1789              1              3.2   54445\n",
            "8   UX Designer         1645              1              3.2   64445\n",
            "9   UX Designer         1258              0              3.7   57189\n",
            "10      Testing         1478              3              3.9   63218\n",
            "11  Development         1257              2              4.0   55794\n",
            "12  Development         1596              1              4.0   56957\n",
            "13      Testing         1256              2              4.1   57081\n",
            "14  UX Designer         1489              3              4.5   61111\n",
            "15  Development         1236              3              4.9   67938\n",
            "16      Testing         2311              2              5.1   66029\n",
            "17  UX Designer         2245              3              5.3   83088\n",
            "18  Development         2365              1              5.9   81363\n",
            "19  Development         1500              3              6.0   93940\n",
            "20      Testing         1456              2              6.8   91738\n",
            "21      Testing         1760              1              7.1   98273\n",
            "22  UX Designer         2400              4              7.9  101302\n",
            "23  Development         2148              3              8.2  113812\n",
            "24  UX Designer         1450              2              8.7  109431\n",
            "25  UX Designer         1000              4              9.0  105582\n",
            "26      Testing         1540              3              9.5  116969\n",
            "27  Development         1500              2              9.6  112635\n",
            "28      Testing         3000              4             10.3  122391\n",
            "29  UX Designer         2100              3             10.5  121872\n"
          ]
        }
      ]
    },
    {
      "cell_type": "code",
      "metadata": {
        "id": "CPVF8h2-cpnI",
        "colab": {
          "base_uri": "https://localhost:8080/",
          "height": 990
        },
        "outputId": "6f056549-8362-4879-b9a3-8b78154894d0"
      },
      "source": [
        "from IPython.display import display\n",
        "X = sal_data.iloc[:,0:4]\n",
        "Y = sal_data.iloc[:,4]\n",
        "X=pd.get_dummies(X)\n",
        "display(X)"
      ],
      "execution_count": 3,
      "outputs": [
        {
          "output_type": "display_data",
          "data": {
            "text/html": [
              "\n",
              "  <div id=\"df-928b6bf0-f43d-463d-8fc3-3a22cdf8b2f9\">\n",
              "    <div class=\"colab-df-container\">\n",
              "      <div>\n",
              "<style scoped>\n",
              "    .dataframe tbody tr th:only-of-type {\n",
              "        vertical-align: middle;\n",
              "    }\n",
              "\n",
              "    .dataframe tbody tr th {\n",
              "        vertical-align: top;\n",
              "    }\n",
              "\n",
              "    .dataframe thead th {\n",
              "        text-align: right;\n",
              "    }\n",
              "</style>\n",
              "<table border=\"1\" class=\"dataframe\">\n",
              "  <thead>\n",
              "    <tr style=\"text-align: right;\">\n",
              "      <th></th>\n",
              "      <th>WorkedHours</th>\n",
              "      <th>Certification</th>\n",
              "      <th>YearsExperience</th>\n",
              "      <th>Depatment_Development</th>\n",
              "      <th>Depatment_Testing</th>\n",
              "      <th>Depatment_UX Designer</th>\n",
              "    </tr>\n",
              "  </thead>\n",
              "  <tbody>\n",
              "    <tr>\n",
              "      <th>0</th>\n",
              "      <td>2300</td>\n",
              "      <td>0</td>\n",
              "      <td>1.1</td>\n",
              "      <td>1</td>\n",
              "      <td>0</td>\n",
              "      <td>0</td>\n",
              "    </tr>\n",
              "    <tr>\n",
              "      <th>1</th>\n",
              "      <td>2100</td>\n",
              "      <td>1</td>\n",
              "      <td>1.3</td>\n",
              "      <td>0</td>\n",
              "      <td>1</td>\n",
              "      <td>0</td>\n",
              "    </tr>\n",
              "    <tr>\n",
              "      <th>2</th>\n",
              "      <td>2104</td>\n",
              "      <td>2</td>\n",
              "      <td>1.5</td>\n",
              "      <td>1</td>\n",
              "      <td>0</td>\n",
              "      <td>0</td>\n",
              "    </tr>\n",
              "    <tr>\n",
              "      <th>3</th>\n",
              "      <td>1200</td>\n",
              "      <td>1</td>\n",
              "      <td>2.0</td>\n",
              "      <td>0</td>\n",
              "      <td>0</td>\n",
              "      <td>1</td>\n",
              "    </tr>\n",
              "    <tr>\n",
              "      <th>4</th>\n",
              "      <td>1254</td>\n",
              "      <td>2</td>\n",
              "      <td>2.2</td>\n",
              "      <td>0</td>\n",
              "      <td>1</td>\n",
              "      <td>0</td>\n",
              "    </tr>\n",
              "    <tr>\n",
              "      <th>5</th>\n",
              "      <td>1236</td>\n",
              "      <td>1</td>\n",
              "      <td>2.9</td>\n",
              "      <td>0</td>\n",
              "      <td>0</td>\n",
              "      <td>1</td>\n",
              "    </tr>\n",
              "    <tr>\n",
              "      <th>6</th>\n",
              "      <td>1452</td>\n",
              "      <td>2</td>\n",
              "      <td>3.0</td>\n",
              "      <td>1</td>\n",
              "      <td>0</td>\n",
              "      <td>0</td>\n",
              "    </tr>\n",
              "    <tr>\n",
              "      <th>7</th>\n",
              "      <td>1789</td>\n",
              "      <td>1</td>\n",
              "      <td>3.2</td>\n",
              "      <td>0</td>\n",
              "      <td>1</td>\n",
              "      <td>0</td>\n",
              "    </tr>\n",
              "    <tr>\n",
              "      <th>8</th>\n",
              "      <td>1645</td>\n",
              "      <td>1</td>\n",
              "      <td>3.2</td>\n",
              "      <td>0</td>\n",
              "      <td>0</td>\n",
              "      <td>1</td>\n",
              "    </tr>\n",
              "    <tr>\n",
              "      <th>9</th>\n",
              "      <td>1258</td>\n",
              "      <td>0</td>\n",
              "      <td>3.7</td>\n",
              "      <td>0</td>\n",
              "      <td>0</td>\n",
              "      <td>1</td>\n",
              "    </tr>\n",
              "    <tr>\n",
              "      <th>10</th>\n",
              "      <td>1478</td>\n",
              "      <td>3</td>\n",
              "      <td>3.9</td>\n",
              "      <td>0</td>\n",
              "      <td>1</td>\n",
              "      <td>0</td>\n",
              "    </tr>\n",
              "    <tr>\n",
              "      <th>11</th>\n",
              "      <td>1257</td>\n",
              "      <td>2</td>\n",
              "      <td>4.0</td>\n",
              "      <td>1</td>\n",
              "      <td>0</td>\n",
              "      <td>0</td>\n",
              "    </tr>\n",
              "    <tr>\n",
              "      <th>12</th>\n",
              "      <td>1596</td>\n",
              "      <td>1</td>\n",
              "      <td>4.0</td>\n",
              "      <td>1</td>\n",
              "      <td>0</td>\n",
              "      <td>0</td>\n",
              "    </tr>\n",
              "    <tr>\n",
              "      <th>13</th>\n",
              "      <td>1256</td>\n",
              "      <td>2</td>\n",
              "      <td>4.1</td>\n",
              "      <td>0</td>\n",
              "      <td>1</td>\n",
              "      <td>0</td>\n",
              "    </tr>\n",
              "    <tr>\n",
              "      <th>14</th>\n",
              "      <td>1489</td>\n",
              "      <td>3</td>\n",
              "      <td>4.5</td>\n",
              "      <td>0</td>\n",
              "      <td>0</td>\n",
              "      <td>1</td>\n",
              "    </tr>\n",
              "    <tr>\n",
              "      <th>15</th>\n",
              "      <td>1236</td>\n",
              "      <td>3</td>\n",
              "      <td>4.9</td>\n",
              "      <td>1</td>\n",
              "      <td>0</td>\n",
              "      <td>0</td>\n",
              "    </tr>\n",
              "    <tr>\n",
              "      <th>16</th>\n",
              "      <td>2311</td>\n",
              "      <td>2</td>\n",
              "      <td>5.1</td>\n",
              "      <td>0</td>\n",
              "      <td>1</td>\n",
              "      <td>0</td>\n",
              "    </tr>\n",
              "    <tr>\n",
              "      <th>17</th>\n",
              "      <td>2245</td>\n",
              "      <td>3</td>\n",
              "      <td>5.3</td>\n",
              "      <td>0</td>\n",
              "      <td>0</td>\n",
              "      <td>1</td>\n",
              "    </tr>\n",
              "    <tr>\n",
              "      <th>18</th>\n",
              "      <td>2365</td>\n",
              "      <td>1</td>\n",
              "      <td>5.9</td>\n",
              "      <td>1</td>\n",
              "      <td>0</td>\n",
              "      <td>0</td>\n",
              "    </tr>\n",
              "    <tr>\n",
              "      <th>19</th>\n",
              "      <td>1500</td>\n",
              "      <td>3</td>\n",
              "      <td>6.0</td>\n",
              "      <td>1</td>\n",
              "      <td>0</td>\n",
              "      <td>0</td>\n",
              "    </tr>\n",
              "    <tr>\n",
              "      <th>20</th>\n",
              "      <td>1456</td>\n",
              "      <td>2</td>\n",
              "      <td>6.8</td>\n",
              "      <td>0</td>\n",
              "      <td>1</td>\n",
              "      <td>0</td>\n",
              "    </tr>\n",
              "    <tr>\n",
              "      <th>21</th>\n",
              "      <td>1760</td>\n",
              "      <td>1</td>\n",
              "      <td>7.1</td>\n",
              "      <td>0</td>\n",
              "      <td>1</td>\n",
              "      <td>0</td>\n",
              "    </tr>\n",
              "    <tr>\n",
              "      <th>22</th>\n",
              "      <td>2400</td>\n",
              "      <td>4</td>\n",
              "      <td>7.9</td>\n",
              "      <td>0</td>\n",
              "      <td>0</td>\n",
              "      <td>1</td>\n",
              "    </tr>\n",
              "    <tr>\n",
              "      <th>23</th>\n",
              "      <td>2148</td>\n",
              "      <td>3</td>\n",
              "      <td>8.2</td>\n",
              "      <td>1</td>\n",
              "      <td>0</td>\n",
              "      <td>0</td>\n",
              "    </tr>\n",
              "    <tr>\n",
              "      <th>24</th>\n",
              "      <td>1450</td>\n",
              "      <td>2</td>\n",
              "      <td>8.7</td>\n",
              "      <td>0</td>\n",
              "      <td>0</td>\n",
              "      <td>1</td>\n",
              "    </tr>\n",
              "    <tr>\n",
              "      <th>25</th>\n",
              "      <td>1000</td>\n",
              "      <td>4</td>\n",
              "      <td>9.0</td>\n",
              "      <td>0</td>\n",
              "      <td>0</td>\n",
              "      <td>1</td>\n",
              "    </tr>\n",
              "    <tr>\n",
              "      <th>26</th>\n",
              "      <td>1540</td>\n",
              "      <td>3</td>\n",
              "      <td>9.5</td>\n",
              "      <td>0</td>\n",
              "      <td>1</td>\n",
              "      <td>0</td>\n",
              "    </tr>\n",
              "    <tr>\n",
              "      <th>27</th>\n",
              "      <td>1500</td>\n",
              "      <td>2</td>\n",
              "      <td>9.6</td>\n",
              "      <td>1</td>\n",
              "      <td>0</td>\n",
              "      <td>0</td>\n",
              "    </tr>\n",
              "    <tr>\n",
              "      <th>28</th>\n",
              "      <td>3000</td>\n",
              "      <td>4</td>\n",
              "      <td>10.3</td>\n",
              "      <td>0</td>\n",
              "      <td>1</td>\n",
              "      <td>0</td>\n",
              "    </tr>\n",
              "    <tr>\n",
              "      <th>29</th>\n",
              "      <td>2100</td>\n",
              "      <td>3</td>\n",
              "      <td>10.5</td>\n",
              "      <td>0</td>\n",
              "      <td>0</td>\n",
              "      <td>1</td>\n",
              "    </tr>\n",
              "  </tbody>\n",
              "</table>\n",
              "</div>\n",
              "      <button class=\"colab-df-convert\" onclick=\"convertToInteractive('df-928b6bf0-f43d-463d-8fc3-3a22cdf8b2f9')\"\n",
              "              title=\"Convert this dataframe to an interactive table.\"\n",
              "              style=\"display:none;\">\n",
              "        \n",
              "  <svg xmlns=\"http://www.w3.org/2000/svg\" height=\"24px\"viewBox=\"0 0 24 24\"\n",
              "       width=\"24px\">\n",
              "    <path d=\"M0 0h24v24H0V0z\" fill=\"none\"/>\n",
              "    <path d=\"M18.56 5.44l.94 2.06.94-2.06 2.06-.94-2.06-.94-.94-2.06-.94 2.06-2.06.94zm-11 1L8.5 8.5l.94-2.06 2.06-.94-2.06-.94L8.5 2.5l-.94 2.06-2.06.94zm10 10l.94 2.06.94-2.06 2.06-.94-2.06-.94-.94-2.06-.94 2.06-2.06.94z\"/><path d=\"M17.41 7.96l-1.37-1.37c-.4-.4-.92-.59-1.43-.59-.52 0-1.04.2-1.43.59L10.3 9.45l-7.72 7.72c-.78.78-.78 2.05 0 2.83L4 21.41c.39.39.9.59 1.41.59.51 0 1.02-.2 1.41-.59l7.78-7.78 2.81-2.81c.8-.78.8-2.07 0-2.86zM5.41 20L4 18.59l7.72-7.72 1.47 1.35L5.41 20z\"/>\n",
              "  </svg>\n",
              "      </button>\n",
              "      \n",
              "  <style>\n",
              "    .colab-df-container {\n",
              "      display:flex;\n",
              "      flex-wrap:wrap;\n",
              "      gap: 12px;\n",
              "    }\n",
              "\n",
              "    .colab-df-convert {\n",
              "      background-color: #E8F0FE;\n",
              "      border: none;\n",
              "      border-radius: 50%;\n",
              "      cursor: pointer;\n",
              "      display: none;\n",
              "      fill: #1967D2;\n",
              "      height: 32px;\n",
              "      padding: 0 0 0 0;\n",
              "      width: 32px;\n",
              "    }\n",
              "\n",
              "    .colab-df-convert:hover {\n",
              "      background-color: #E2EBFA;\n",
              "      box-shadow: 0px 1px 2px rgba(60, 64, 67, 0.3), 0px 1px 3px 1px rgba(60, 64, 67, 0.15);\n",
              "      fill: #174EA6;\n",
              "    }\n",
              "\n",
              "    [theme=dark] .colab-df-convert {\n",
              "      background-color: #3B4455;\n",
              "      fill: #D2E3FC;\n",
              "    }\n",
              "\n",
              "    [theme=dark] .colab-df-convert:hover {\n",
              "      background-color: #434B5C;\n",
              "      box-shadow: 0px 1px 3px 1px rgba(0, 0, 0, 0.15);\n",
              "      filter: drop-shadow(0px 1px 2px rgba(0, 0, 0, 0.3));\n",
              "      fill: #FFFFFF;\n",
              "    }\n",
              "  </style>\n",
              "\n",
              "      <script>\n",
              "        const buttonEl =\n",
              "          document.querySelector('#df-928b6bf0-f43d-463d-8fc3-3a22cdf8b2f9 button.colab-df-convert');\n",
              "        buttonEl.style.display =\n",
              "          google.colab.kernel.accessAllowed ? 'block' : 'none';\n",
              "\n",
              "        async function convertToInteractive(key) {\n",
              "          const element = document.querySelector('#df-928b6bf0-f43d-463d-8fc3-3a22cdf8b2f9');\n",
              "          const dataTable =\n",
              "            await google.colab.kernel.invokeFunction('convertToInteractive',\n",
              "                                                     [key], {});\n",
              "          if (!dataTable) return;\n",
              "\n",
              "          const docLinkHtml = 'Like what you see? Visit the ' +\n",
              "            '<a target=\"_blank\" href=https://colab.research.google.com/notebooks/data_table.ipynb>data table notebook</a>'\n",
              "            + ' to learn more about interactive tables.';\n",
              "          element.innerHTML = '';\n",
              "          dataTable['output_type'] = 'display_data';\n",
              "          await google.colab.output.renderOutput(dataTable, element);\n",
              "          const docLink = document.createElement('div');\n",
              "          docLink.innerHTML = docLinkHtml;\n",
              "          element.appendChild(docLink);\n",
              "        }\n",
              "      </script>\n",
              "    </div>\n",
              "  </div>\n",
              "  "
            ],
            "text/plain": [
              "    WorkedHours  Certification  ...  Depatment_Testing  Depatment_UX Designer\n",
              "0          2300              0  ...                  0                      0\n",
              "1          2100              1  ...                  1                      0\n",
              "2          2104              2  ...                  0                      0\n",
              "3          1200              1  ...                  0                      1\n",
              "4          1254              2  ...                  1                      0\n",
              "5          1236              1  ...                  0                      1\n",
              "6          1452              2  ...                  0                      0\n",
              "7          1789              1  ...                  1                      0\n",
              "8          1645              1  ...                  0                      1\n",
              "9          1258              0  ...                  0                      1\n",
              "10         1478              3  ...                  1                      0\n",
              "11         1257              2  ...                  0                      0\n",
              "12         1596              1  ...                  0                      0\n",
              "13         1256              2  ...                  1                      0\n",
              "14         1489              3  ...                  0                      1\n",
              "15         1236              3  ...                  0                      0\n",
              "16         2311              2  ...                  1                      0\n",
              "17         2245              3  ...                  0                      1\n",
              "18         2365              1  ...                  0                      0\n",
              "19         1500              3  ...                  0                      0\n",
              "20         1456              2  ...                  1                      0\n",
              "21         1760              1  ...                  1                      0\n",
              "22         2400              4  ...                  0                      1\n",
              "23         2148              3  ...                  0                      0\n",
              "24         1450              2  ...                  0                      1\n",
              "25         1000              4  ...                  0                      1\n",
              "26         1540              3  ...                  1                      0\n",
              "27         1500              2  ...                  0                      0\n",
              "28         3000              4  ...                  1                      0\n",
              "29         2100              3  ...                  0                      1\n",
              "\n",
              "[30 rows x 6 columns]"
            ]
          },
          "metadata": {}
        }
      ]
    },
    {
      "cell_type": "code",
      "metadata": {
        "id": "UMJBvF5VTlxf",
        "colab": {
          "base_uri": "https://localhost:8080/"
        },
        "outputId": "b1e7c8b8-0e74-433d-b793-af6f0c280be1"
      },
      "source": [
        "from sklearn.model_selection import train_test_split\n",
        "from sklearn.metrics import r2_score\n",
        "X_train,X_test,Y_train,Y_test = train_test_split(X,Y,test_size =0.33,random_state=0)\n",
        "model=LinearRegression()\n",
        "model.fit(X_train,Y_train)\n",
        "Y_predict=model.predict(X_test)\n",
        "print(\"Training Score\",model.score(X_train,Y_train))\n",
        "print(\"Test Score\",model.score(X_test,Y_test))\n",
        "print('R2 Score ',r2_score(Y_test,Y_predict))\n"
      ],
      "execution_count": 4,
      "outputs": [
        {
          "output_type": "stream",
          "name": "stdout",
          "text": [
            "Training Score 0.9451626273970442\n",
            "Test Score 0.9660078840971882\n",
            "R2 Score  0.9660078840971882\n"
          ]
        }
      ]
    },
    {
      "cell_type": "markdown",
      "metadata": {
        "id": "dUIPqGvXnELN"
      },
      "source": [
        "**Backward Elimination**"
      ]
    },
    {
      "cell_type": "code",
      "metadata": {
        "id": "NU0ApB1Jh5C4"
      },
      "source": [
        "X=np.append(arr=np.ones((30,1)).astype(np.int),values=X,axis=1)"
      ],
      "execution_count": 5,
      "outputs": []
    },
    {
      "cell_type": "code",
      "metadata": {
        "id": "q5X7cyZ_ieQc",
        "colab": {
          "base_uri": "https://localhost:8080/"
        },
        "outputId": "351d51f8-6a43-45a9-a18a-bafcc9797d45"
      },
      "source": [
        "print(X.shape)"
      ],
      "execution_count": 6,
      "outputs": [
        {
          "output_type": "stream",
          "name": "stdout",
          "text": [
            "(30, 7)\n"
          ]
        }
      ]
    },
    {
      "cell_type": "code",
      "metadata": {
        "id": "EJhziAQQi5AH",
        "colab": {
          "base_uri": "https://localhost:8080/"
        },
        "outputId": "a104f624-e666-4292-d936-3b132e476351"
      },
      "source": [
        "New_X=X[:,[0,1,2,3,4,5]]\n",
        "import statsmodels.api as sm"
      ],
      "execution_count": 7,
      "outputs": [
        {
          "output_type": "stream",
          "name": "stderr",
          "text": [
            "/usr/local/lib/python3.7/dist-packages/statsmodels/tools/_testing.py:19: FutureWarning: pandas.util.testing is deprecated. Use the functions in the public API at pandas.testing instead.\n",
            "  import pandas.util.testing as tm\n"
          ]
        }
      ]
    },
    {
      "cell_type": "code",
      "metadata": {
        "id": "zm47WB4BjPpo"
      },
      "source": [
        "obj = sm.OLS(endog=Y,exog=New_X).fit()"
      ],
      "execution_count": 8,
      "outputs": []
    },
    {
      "cell_type": "code",
      "metadata": {
        "id": "bQhkzEQCjeJI",
        "colab": {
          "base_uri": "https://localhost:8080/",
          "height": 562
        },
        "outputId": "a1b09649-8d60-424a-edf0-afaba265dde6"
      },
      "source": [
        "obj.summary()"
      ],
      "execution_count": 9,
      "outputs": [
        {
          "output_type": "execute_result",
          "data": {
            "text/html": [
              "<table class=\"simpletable\">\n",
              "<caption>OLS Regression Results</caption>\n",
              "<tr>\n",
              "  <th>Dep. Variable:</th>         <td>Salary</td>      <th>  R-squared:         </th> <td>   0.961</td>\n",
              "</tr>\n",
              "<tr>\n",
              "  <th>Model:</th>                   <td>OLS</td>       <th>  Adj. R-squared:    </th> <td>   0.952</td>\n",
              "</tr>\n",
              "<tr>\n",
              "  <th>Method:</th>             <td>Least Squares</td>  <th>  F-statistic:       </th> <td>   117.2</td>\n",
              "</tr>\n",
              "<tr>\n",
              "  <th>Date:</th>             <td>Thu, 20 Jan 2022</td> <th>  Prob (F-statistic):</th> <td>4.71e-16</td>\n",
              "</tr>\n",
              "<tr>\n",
              "  <th>Time:</th>                 <td>08:58:42</td>     <th>  Log-Likelihood:    </th> <td> -300.09</td>\n",
              "</tr>\n",
              "<tr>\n",
              "  <th>No. Observations:</th>      <td>    30</td>      <th>  AIC:               </th> <td>   612.2</td>\n",
              "</tr>\n",
              "<tr>\n",
              "  <th>Df Residuals:</th>          <td>    24</td>      <th>  BIC:               </th> <td>   620.6</td>\n",
              "</tr>\n",
              "<tr>\n",
              "  <th>Df Model:</th>              <td>     5</td>      <th>                     </th>     <td> </td>   \n",
              "</tr>\n",
              "<tr>\n",
              "  <th>Covariance Type:</th>      <td>nonrobust</td>    <th>                     </th>     <td> </td>   \n",
              "</tr>\n",
              "</table>\n",
              "<table class=\"simpletable\">\n",
              "<tr>\n",
              "    <td></td>       <th>coef</th>     <th>std err</th>      <th>t</th>      <th>P>|t|</th>  <th>[0.025</th>    <th>0.975]</th>  \n",
              "</tr>\n",
              "<tr>\n",
              "  <th>const</th> <td> 2.155e+04</td> <td> 4545.270</td> <td>    4.742</td> <td> 0.000</td> <td> 1.22e+04</td> <td> 3.09e+04</td>\n",
              "</tr>\n",
              "<tr>\n",
              "  <th>x1</th>    <td>    3.3361</td> <td>    2.410</td> <td>    1.384</td> <td> 0.179</td> <td>   -1.637</td> <td>    8.310</td>\n",
              "</tr>\n",
              "<tr>\n",
              "  <th>x2</th>    <td> -423.7607</td> <td> 1282.271</td> <td>   -0.330</td> <td> 0.744</td> <td>-3070.237</td> <td> 2222.716</td>\n",
              "</tr>\n",
              "<tr>\n",
              "  <th>x3</th>    <td> 9437.2530</td> <td>  510.978</td> <td>   18.469</td> <td> 0.000</td> <td> 8382.645</td> <td> 1.05e+04</td>\n",
              "</tr>\n",
              "<tr>\n",
              "  <th>x4</th>    <td>  -92.8656</td> <td> 2735.524</td> <td>   -0.034</td> <td> 0.973</td> <td>-5738.710</td> <td> 5552.978</td>\n",
              "</tr>\n",
              "<tr>\n",
              "  <th>x5</th>    <td>-1514.2911</td> <td> 2724.621</td> <td>   -0.556</td> <td> 0.584</td> <td>-7137.633</td> <td> 4109.050</td>\n",
              "</tr>\n",
              "</table>\n",
              "<table class=\"simpletable\">\n",
              "<tr>\n",
              "  <th>Omnibus:</th>       <td> 2.020</td> <th>  Durbin-Watson:     </th> <td>   1.918</td>\n",
              "</tr>\n",
              "<tr>\n",
              "  <th>Prob(Omnibus):</th> <td> 0.364</td> <th>  Jarque-Bera (JB):  </th> <td>   1.629</td>\n",
              "</tr>\n",
              "<tr>\n",
              "  <th>Skew:</th>          <td> 0.414</td> <th>  Prob(JB):          </th> <td>   0.443</td>\n",
              "</tr>\n",
              "<tr>\n",
              "  <th>Kurtosis:</th>      <td> 2.214</td> <th>  Cond. No.          </th> <td>7.66e+03</td>\n",
              "</tr>\n",
              "</table><br/><br/>Warnings:<br/>[1] Standard Errors assume that the covariance matrix of the errors is correctly specified.<br/>[2] The condition number is large, 7.66e+03. This might indicate that there are<br/>strong multicollinearity or other numerical problems."
            ],
            "text/plain": [
              "<class 'statsmodels.iolib.summary.Summary'>\n",
              "\"\"\"\n",
              "                            OLS Regression Results                            \n",
              "==============================================================================\n",
              "Dep. Variable:                 Salary   R-squared:                       0.961\n",
              "Model:                            OLS   Adj. R-squared:                  0.952\n",
              "Method:                 Least Squares   F-statistic:                     117.2\n",
              "Date:                Thu, 20 Jan 2022   Prob (F-statistic):           4.71e-16\n",
              "Time:                        08:58:42   Log-Likelihood:                -300.09\n",
              "No. Observations:                  30   AIC:                             612.2\n",
              "Df Residuals:                      24   BIC:                             620.6\n",
              "Df Model:                           5                                         \n",
              "Covariance Type:            nonrobust                                         \n",
              "==============================================================================\n",
              "                 coef    std err          t      P>|t|      [0.025      0.975]\n",
              "------------------------------------------------------------------------------\n",
              "const       2.155e+04   4545.270      4.742      0.000    1.22e+04    3.09e+04\n",
              "x1             3.3361      2.410      1.384      0.179      -1.637       8.310\n",
              "x2          -423.7607   1282.271     -0.330      0.744   -3070.237    2222.716\n",
              "x3          9437.2530    510.978     18.469      0.000    8382.645    1.05e+04\n",
              "x4           -92.8656   2735.524     -0.034      0.973   -5738.710    5552.978\n",
              "x5         -1514.2911   2724.621     -0.556      0.584   -7137.633    4109.050\n",
              "==============================================================================\n",
              "Omnibus:                        2.020   Durbin-Watson:                   1.918\n",
              "Prob(Omnibus):                  0.364   Jarque-Bera (JB):                1.629\n",
              "Skew:                           0.414   Prob(JB):                        0.443\n",
              "Kurtosis:                       2.214   Cond. No.                     7.66e+03\n",
              "==============================================================================\n",
              "\n",
              "Warnings:\n",
              "[1] Standard Errors assume that the covariance matrix of the errors is correctly specified.\n",
              "[2] The condition number is large, 7.66e+03. This might indicate that there are\n",
              "strong multicollinearity or other numerical problems.\n",
              "\"\"\""
            ]
          },
          "metadata": {},
          "execution_count": 9
        }
      ]
    },
    {
      "cell_type": "code",
      "metadata": {
        "id": "ZeSrvdYTkNdq"
      },
      "source": [
        "New_X=X[:,[0,1,2,3,4]]"
      ],
      "execution_count": 10,
      "outputs": []
    },
    {
      "cell_type": "code",
      "metadata": {
        "id": "CZZ2aGKpkZaG"
      },
      "source": [
        "obj = sm.OLS(endog=Y,exog=New_X).fit()"
      ],
      "execution_count": 11,
      "outputs": []
    },
    {
      "cell_type": "code",
      "metadata": {
        "id": "LbBeiY8jkcK7",
        "colab": {
          "base_uri": "https://localhost:8080/",
          "height": 542
        },
        "outputId": "6e1aa210-f0ca-4ad5-bc30-46995208b690"
      },
      "source": [
        "obj.summary()"
      ],
      "execution_count": 12,
      "outputs": [
        {
          "output_type": "execute_result",
          "data": {
            "text/html": [
              "<table class=\"simpletable\">\n",
              "<caption>OLS Regression Results</caption>\n",
              "<tr>\n",
              "  <th>Dep. Variable:</th>         <td>Salary</td>      <th>  R-squared:         </th> <td>   0.960</td>\n",
              "</tr>\n",
              "<tr>\n",
              "  <th>Model:</th>                   <td>OLS</td>       <th>  Adj. R-squared:    </th> <td>   0.954</td>\n",
              "</tr>\n",
              "<tr>\n",
              "  <th>Method:</th>             <td>Least Squares</td>  <th>  F-statistic:       </th> <td>   150.6</td>\n",
              "</tr>\n",
              "<tr>\n",
              "  <th>Date:</th>             <td>Thu, 20 Jan 2022</td> <th>  Prob (F-statistic):</th> <td>4.15e-17</td>\n",
              "</tr>\n",
              "<tr>\n",
              "  <th>Time:</th>                 <td>08:58:42</td>     <th>  Log-Likelihood:    </th> <td> -300.28</td>\n",
              "</tr>\n",
              "<tr>\n",
              "  <th>No. Observations:</th>      <td>    30</td>      <th>  AIC:               </th> <td>   610.6</td>\n",
              "</tr>\n",
              "<tr>\n",
              "  <th>Df Residuals:</th>          <td>    25</td>      <th>  BIC:               </th> <td>   617.6</td>\n",
              "</tr>\n",
              "<tr>\n",
              "  <th>Df Model:</th>              <td>     4</td>      <th>                     </th>     <td> </td>   \n",
              "</tr>\n",
              "<tr>\n",
              "  <th>Covariance Type:</th>      <td>nonrobust</td>    <th>                     </th>     <td> </td>   \n",
              "</tr>\n",
              "</table>\n",
              "<table class=\"simpletable\">\n",
              "<tr>\n",
              "    <td></td>       <th>coef</th>     <th>std err</th>      <th>t</th>      <th>P>|t|</th>  <th>[0.025</th>    <th>0.975]</th>  \n",
              "</tr>\n",
              "<tr>\n",
              "  <th>const</th> <td> 2.109e+04</td> <td> 4404.564</td> <td>    4.787</td> <td> 0.000</td> <td>  1.2e+04</td> <td> 3.02e+04</td>\n",
              "</tr>\n",
              "<tr>\n",
              "  <th>x1</th>    <td>    3.0894</td> <td>    2.336</td> <td>    1.323</td> <td> 0.198</td> <td>   -1.721</td> <td>    7.900</td>\n",
              "</tr>\n",
              "<tr>\n",
              "  <th>x2</th>    <td> -421.0364</td> <td> 1264.414</td> <td>   -0.333</td> <td> 0.742</td> <td>-3025.145</td> <td> 2183.072</td>\n",
              "</tr>\n",
              "<tr>\n",
              "  <th>x3</th>    <td> 9459.4775</td> <td>  502.321</td> <td>   18.832</td> <td> 0.000</td> <td> 8424.929</td> <td> 1.05e+04</td>\n",
              "</tr>\n",
              "<tr>\n",
              "  <th>x4</th>    <td>  693.1138</td> <td> 2309.021</td> <td>    0.300</td> <td> 0.767</td> <td>-4062.404</td> <td> 5448.632</td>\n",
              "</tr>\n",
              "</table>\n",
              "<table class=\"simpletable\">\n",
              "<tr>\n",
              "  <th>Omnibus:</th>       <td> 1.658</td> <th>  Durbin-Watson:     </th> <td>   1.914</td>\n",
              "</tr>\n",
              "<tr>\n",
              "  <th>Prob(Omnibus):</th> <td> 0.436</td> <th>  Jarque-Bera (JB):  </th> <td>   1.413</td>\n",
              "</tr>\n",
              "<tr>\n",
              "  <th>Skew:</th>          <td> 0.380</td> <th>  Prob(JB):          </th> <td>   0.493</td>\n",
              "</tr>\n",
              "<tr>\n",
              "  <th>Kurtosis:</th>      <td> 2.256</td> <th>  Cond. No.          </th> <td>7.34e+03</td>\n",
              "</tr>\n",
              "</table><br/><br/>Warnings:<br/>[1] Standard Errors assume that the covariance matrix of the errors is correctly specified.<br/>[2] The condition number is large, 7.34e+03. This might indicate that there are<br/>strong multicollinearity or other numerical problems."
            ],
            "text/plain": [
              "<class 'statsmodels.iolib.summary.Summary'>\n",
              "\"\"\"\n",
              "                            OLS Regression Results                            \n",
              "==============================================================================\n",
              "Dep. Variable:                 Salary   R-squared:                       0.960\n",
              "Model:                            OLS   Adj. R-squared:                  0.954\n",
              "Method:                 Least Squares   F-statistic:                     150.6\n",
              "Date:                Thu, 20 Jan 2022   Prob (F-statistic):           4.15e-17\n",
              "Time:                        08:58:42   Log-Likelihood:                -300.28\n",
              "No. Observations:                  30   AIC:                             610.6\n",
              "Df Residuals:                      25   BIC:                             617.6\n",
              "Df Model:                           4                                         \n",
              "Covariance Type:            nonrobust                                         \n",
              "==============================================================================\n",
              "                 coef    std err          t      P>|t|      [0.025      0.975]\n",
              "------------------------------------------------------------------------------\n",
              "const       2.109e+04   4404.564      4.787      0.000     1.2e+04    3.02e+04\n",
              "x1             3.0894      2.336      1.323      0.198      -1.721       7.900\n",
              "x2          -421.0364   1264.414     -0.333      0.742   -3025.145    2183.072\n",
              "x3          9459.4775    502.321     18.832      0.000    8424.929    1.05e+04\n",
              "x4           693.1138   2309.021      0.300      0.767   -4062.404    5448.632\n",
              "==============================================================================\n",
              "Omnibus:                        1.658   Durbin-Watson:                   1.914\n",
              "Prob(Omnibus):                  0.436   Jarque-Bera (JB):                1.413\n",
              "Skew:                           0.380   Prob(JB):                        0.493\n",
              "Kurtosis:                       2.256   Cond. No.                     7.34e+03\n",
              "==============================================================================\n",
              "\n",
              "Warnings:\n",
              "[1] Standard Errors assume that the covariance matrix of the errors is correctly specified.\n",
              "[2] The condition number is large, 7.34e+03. This might indicate that there are\n",
              "strong multicollinearity or other numerical problems.\n",
              "\"\"\""
            ]
          },
          "metadata": {},
          "execution_count": 12
        }
      ]
    },
    {
      "cell_type": "code",
      "metadata": {
        "id": "dLtHln-Dk4Sx"
      },
      "source": [
        "New_X=X[:,[0,1,2,3]]"
      ],
      "execution_count": 13,
      "outputs": []
    },
    {
      "cell_type": "code",
      "metadata": {
        "id": "vNDP8FTDk6Hi"
      },
      "source": [
        "obj = sm.OLS(endog=Y,exog=New_X).fit()"
      ],
      "execution_count": 14,
      "outputs": []
    },
    {
      "cell_type": "code",
      "metadata": {
        "id": "3nTDE1B9k73u",
        "colab": {
          "base_uri": "https://localhost:8080/",
          "height": 520
        },
        "outputId": "a5478894-ae96-4c2a-f920-bf072cfc01ed"
      },
      "source": [
        "obj.summary()"
      ],
      "execution_count": 15,
      "outputs": [
        {
          "output_type": "execute_result",
          "data": {
            "text/html": [
              "<table class=\"simpletable\">\n",
              "<caption>OLS Regression Results</caption>\n",
              "<tr>\n",
              "  <th>Dep. Variable:</th>         <td>Salary</td>      <th>  R-squared:         </th> <td>   0.960</td>\n",
              "</tr>\n",
              "<tr>\n",
              "  <th>Model:</th>                   <td>OLS</td>       <th>  Adj. R-squared:    </th> <td>   0.955</td>\n",
              "</tr>\n",
              "<tr>\n",
              "  <th>Method:</th>             <td>Least Squares</td>  <th>  F-statistic:       </th> <td>   208.1</td>\n",
              "</tr>\n",
              "<tr>\n",
              "  <th>Date:</th>             <td>Thu, 20 Jan 2022</td> <th>  Prob (F-statistic):</th> <td>2.74e-18</td>\n",
              "</tr>\n",
              "<tr>\n",
              "  <th>Time:</th>                 <td>08:58:42</td>     <th>  Log-Likelihood:    </th> <td> -300.34</td>\n",
              "</tr>\n",
              "<tr>\n",
              "  <th>No. Observations:</th>      <td>    30</td>      <th>  AIC:               </th> <td>   608.7</td>\n",
              "</tr>\n",
              "<tr>\n",
              "  <th>Df Residuals:</th>          <td>    26</td>      <th>  BIC:               </th> <td>   614.3</td>\n",
              "</tr>\n",
              "<tr>\n",
              "  <th>Df Model:</th>              <td>     3</td>      <th>                     </th>     <td> </td>   \n",
              "</tr>\n",
              "<tr>\n",
              "  <th>Covariance Type:</th>      <td>nonrobust</td>    <th>                     </th>     <td> </td>   \n",
              "</tr>\n",
              "</table>\n",
              "<table class=\"simpletable\">\n",
              "<tr>\n",
              "    <td></td>       <th>coef</th>     <th>std err</th>      <th>t</th>      <th>P>|t|</th>  <th>[0.025</th>    <th>0.975]</th>  \n",
              "</tr>\n",
              "<tr>\n",
              "  <th>const</th> <td> 2.132e+04</td> <td> 4255.851</td> <td>    5.010</td> <td> 0.000</td> <td> 1.26e+04</td> <td> 3.01e+04</td>\n",
              "</tr>\n",
              "<tr>\n",
              "  <th>x1</th>    <td>    3.1430</td> <td>    2.288</td> <td>    1.374</td> <td> 0.181</td> <td>   -1.559</td> <td>    7.845</td>\n",
              "</tr>\n",
              "<tr>\n",
              "  <th>x2</th>    <td> -436.2151</td> <td> 1241.098</td> <td>   -0.351</td> <td> 0.728</td> <td>-2987.329</td> <td> 2114.899</td>\n",
              "</tr>\n",
              "<tr>\n",
              "  <th>x3</th>    <td> 9446.6811</td> <td>  491.673</td> <td>   19.213</td> <td> 0.000</td> <td> 8436.033</td> <td> 1.05e+04</td>\n",
              "</tr>\n",
              "</table>\n",
              "<table class=\"simpletable\">\n",
              "<tr>\n",
              "  <th>Omnibus:</th>       <td> 1.432</td> <th>  Durbin-Watson:     </th> <td>   1.918</td>\n",
              "</tr>\n",
              "<tr>\n",
              "  <th>Prob(Omnibus):</th> <td> 0.489</td> <th>  Jarque-Bera (JB):  </th> <td>   1.349</td>\n",
              "</tr>\n",
              "<tr>\n",
              "  <th>Skew:</th>          <td> 0.431</td> <th>  Prob(JB):          </th> <td>   0.509</td>\n",
              "</tr>\n",
              "<tr>\n",
              "  <th>Kurtosis:</th>      <td> 2.421</td> <th>  Cond. No.          </th> <td>7.17e+03</td>\n",
              "</tr>\n",
              "</table><br/><br/>Warnings:<br/>[1] Standard Errors assume that the covariance matrix of the errors is correctly specified.<br/>[2] The condition number is large, 7.17e+03. This might indicate that there are<br/>strong multicollinearity or other numerical problems."
            ],
            "text/plain": [
              "<class 'statsmodels.iolib.summary.Summary'>\n",
              "\"\"\"\n",
              "                            OLS Regression Results                            \n",
              "==============================================================================\n",
              "Dep. Variable:                 Salary   R-squared:                       0.960\n",
              "Model:                            OLS   Adj. R-squared:                  0.955\n",
              "Method:                 Least Squares   F-statistic:                     208.1\n",
              "Date:                Thu, 20 Jan 2022   Prob (F-statistic):           2.74e-18\n",
              "Time:                        08:58:42   Log-Likelihood:                -300.34\n",
              "No. Observations:                  30   AIC:                             608.7\n",
              "Df Residuals:                      26   BIC:                             614.3\n",
              "Df Model:                           3                                         \n",
              "Covariance Type:            nonrobust                                         \n",
              "==============================================================================\n",
              "                 coef    std err          t      P>|t|      [0.025      0.975]\n",
              "------------------------------------------------------------------------------\n",
              "const       2.132e+04   4255.851      5.010      0.000    1.26e+04    3.01e+04\n",
              "x1             3.1430      2.288      1.374      0.181      -1.559       7.845\n",
              "x2          -436.2151   1241.098     -0.351      0.728   -2987.329    2114.899\n",
              "x3          9446.6811    491.673     19.213      0.000    8436.033    1.05e+04\n",
              "==============================================================================\n",
              "Omnibus:                        1.432   Durbin-Watson:                   1.918\n",
              "Prob(Omnibus):                  0.489   Jarque-Bera (JB):                1.349\n",
              "Skew:                           0.431   Prob(JB):                        0.509\n",
              "Kurtosis:                       2.421   Cond. No.                     7.17e+03\n",
              "==============================================================================\n",
              "\n",
              "Warnings:\n",
              "[1] Standard Errors assume that the covariance matrix of the errors is correctly specified.\n",
              "[2] The condition number is large, 7.17e+03. This might indicate that there are\n",
              "strong multicollinearity or other numerical problems.\n",
              "\"\"\""
            ]
          },
          "metadata": {},
          "execution_count": 15
        }
      ]
    },
    {
      "cell_type": "code",
      "metadata": {
        "id": "xtPX3wBjlP1Q"
      },
      "source": [
        "New_X=X[:,[3]]"
      ],
      "execution_count": 16,
      "outputs": []
    },
    {
      "cell_type": "code",
      "metadata": {
        "id": "16cCwVM-ll2h"
      },
      "source": [
        "obj = sm.OLS(endog=Y,exog=New_X).fit()"
      ],
      "execution_count": 17,
      "outputs": []
    },
    {
      "cell_type": "code",
      "metadata": {
        "id": "O4_WqBcOl43d",
        "colab": {
          "base_uri": "https://localhost:8080/",
          "height": 423
        },
        "outputId": "c045ee4b-5719-48b4-be73-68efb211cabb"
      },
      "source": [
        "obj.summary()"
      ],
      "execution_count": 18,
      "outputs": [
        {
          "output_type": "execute_result",
          "data": {
            "text/html": [
              "<table class=\"simpletable\">\n",
              "<caption>OLS Regression Results</caption>\n",
              "<tr>\n",
              "  <th>Dep. Variable:</th>         <td>Salary</td>      <th>  R-squared (uncentered):</th>      <td>   0.973</td>\n",
              "</tr>\n",
              "<tr>\n",
              "  <th>Model:</th>                   <td>OLS</td>       <th>  Adj. R-squared (uncentered):</th> <td>   0.972</td>\n",
              "</tr>\n",
              "<tr>\n",
              "  <th>Method:</th>             <td>Least Squares</td>  <th>  F-statistic:       </th>          <td>   1048.</td>\n",
              "</tr>\n",
              "<tr>\n",
              "  <th>Date:</th>             <td>Thu, 20 Jan 2022</td> <th>  Prob (F-statistic):</th>          <td>2.56e-24</td>\n",
              "</tr>\n",
              "<tr>\n",
              "  <th>Time:</th>                 <td>08:58:42</td>     <th>  Log-Likelihood:    </th>          <td> -327.28</td>\n",
              "</tr>\n",
              "<tr>\n",
              "  <th>No. Observations:</th>      <td>    30</td>      <th>  AIC:               </th>          <td>   656.6</td>\n",
              "</tr>\n",
              "<tr>\n",
              "  <th>Df Residuals:</th>          <td>    29</td>      <th>  BIC:               </th>          <td>   658.0</td>\n",
              "</tr>\n",
              "<tr>\n",
              "  <th>Df Model:</th>              <td>     1</td>      <th>                     </th>              <td> </td>   \n",
              "</tr>\n",
              "<tr>\n",
              "  <th>Covariance Type:</th>      <td>nonrobust</td>    <th>                     </th>              <td> </td>   \n",
              "</tr>\n",
              "</table>\n",
              "<table class=\"simpletable\">\n",
              "<tr>\n",
              "   <td></td>     <th>coef</th>     <th>std err</th>      <th>t</th>      <th>P>|t|</th>  <th>[0.025</th>    <th>0.975]</th>  \n",
              "</tr>\n",
              "<tr>\n",
              "  <th>x1</th> <td> 1.325e+04</td> <td>  409.401</td> <td>   32.376</td> <td> 0.000</td> <td> 1.24e+04</td> <td> 1.41e+04</td>\n",
              "</tr>\n",
              "</table>\n",
              "<table class=\"simpletable\">\n",
              "<tr>\n",
              "  <th>Omnibus:</th>       <td> 0.610</td> <th>  Durbin-Watson:     </th> <td>   0.323</td>\n",
              "</tr>\n",
              "<tr>\n",
              "  <th>Prob(Omnibus):</th> <td> 0.737</td> <th>  Jarque-Bera (JB):  </th> <td>   0.671</td>\n",
              "</tr>\n",
              "<tr>\n",
              "  <th>Skew:</th>          <td>-0.121</td> <th>  Prob(JB):          </th> <td>   0.715</td>\n",
              "</tr>\n",
              "<tr>\n",
              "  <th>Kurtosis:</th>      <td> 2.308</td> <th>  Cond. No.          </th> <td>    1.00</td>\n",
              "</tr>\n",
              "</table><br/><br/>Warnings:<br/>[1] Standard Errors assume that the covariance matrix of the errors is correctly specified."
            ],
            "text/plain": [
              "<class 'statsmodels.iolib.summary.Summary'>\n",
              "\"\"\"\n",
              "                                 OLS Regression Results                                \n",
              "=======================================================================================\n",
              "Dep. Variable:                 Salary   R-squared (uncentered):                   0.973\n",
              "Model:                            OLS   Adj. R-squared (uncentered):              0.972\n",
              "Method:                 Least Squares   F-statistic:                              1048.\n",
              "Date:                Thu, 20 Jan 2022   Prob (F-statistic):                    2.56e-24\n",
              "Time:                        08:58:42   Log-Likelihood:                         -327.28\n",
              "No. Observations:                  30   AIC:                                      656.6\n",
              "Df Residuals:                      29   BIC:                                      658.0\n",
              "Df Model:                           1                                                  \n",
              "Covariance Type:            nonrobust                                                  \n",
              "==============================================================================\n",
              "                 coef    std err          t      P>|t|      [0.025      0.975]\n",
              "------------------------------------------------------------------------------\n",
              "x1          1.325e+04    409.401     32.376      0.000    1.24e+04    1.41e+04\n",
              "==============================================================================\n",
              "Omnibus:                        0.610   Durbin-Watson:                   0.323\n",
              "Prob(Omnibus):                  0.737   Jarque-Bera (JB):                0.671\n",
              "Skew:                          -0.121   Prob(JB):                        0.715\n",
              "Kurtosis:                       2.308   Cond. No.                         1.00\n",
              "==============================================================================\n",
              "\n",
              "Warnings:\n",
              "[1] Standard Errors assume that the covariance matrix of the errors is correctly specified.\n",
              "\"\"\""
            ]
          },
          "metadata": {},
          "execution_count": 18
        }
      ]
    },
    {
      "cell_type": "code",
      "metadata": {
        "id": "VHTmu_E5muUY",
        "colab": {
          "base_uri": "https://localhost:8080/"
        },
        "outputId": "cccabee7-df10-4b95-a22f-624ac6d01e9d"
      },
      "source": [
        "from sklearn.model_selection import train_test_split\n",
        "from sklearn.metrics import r2_score\n",
        "X_train,X_test,Y_train,Y_test = train_test_split(New_X,Y,test_size =0.33,random_state=0)\n",
        "model=LinearRegression()\n",
        "model.fit(X_train,Y_train)\n",
        "Y_predict=model.predict(X_test)\n",
        "print(\"Training Score\",model.score(X_train,Y_train))\n",
        "print(\"Test Score\",model.score(X_test,Y_test))\n",
        "print('R2 Score ',r2_score(Y_test,Y_predict))"
      ],
      "execution_count": 19,
      "outputs": [
        {
          "output_type": "stream",
          "name": "stdout",
          "text": [
            "Training Score 0.9381900012894278\n",
            "Test Score 0.9749154407708353\n",
            "R2 Score  0.9749154407708353\n"
          ]
        }
      ]
    },
    {
      "cell_type": "markdown",
      "metadata": {
        "id": "RNhJkfO9p5Ze"
      },
      "source": [
        "**Polynomial Regression**"
      ]
    },
    {
      "cell_type": "code",
      "metadata": {
        "id": "25cXaCE-nKnw",
        "colab": {
          "base_uri": "https://localhost:8080/"
        },
        "outputId": "ca7bafe2-ffd3-41bf-ed06-9562d18d76f6"
      },
      "source": [
        "ploy=PolynomialFeatures(degree=3)\n",
        "poly_X=ploy.fit_transform(New_X)\n",
        "model2=LinearRegression()\n",
        "model2.fit(poly_X,Y)\n",
        "Y_predict=model2.predict(poly_X)\n",
        "print(\"Score\",model2.score(poly_X,Y))"
      ],
      "execution_count": 20,
      "outputs": [
        {
          "output_type": "stream",
          "name": "stdout",
          "text": [
            "Score 0.9635969766249464\n"
          ]
        }
      ]
    },
    {
      "cell_type": "code",
      "metadata": {
        "id": "X0gMxozRnzz4",
        "colab": {
          "base_uri": "https://localhost:8080/",
          "height": 265
        },
        "outputId": "78728f84-911c-44de-cb13-d26c43e517a8"
      },
      "source": [
        "plt.scatter(New_X,Y,c='red')\n",
        "plt.plot(New_X,Y_predict,c='blue')\n",
        "plt.show()"
      ],
      "execution_count": 21,
      "outputs": [
        {
          "output_type": "display_data",
          "data": {
            "image/png": "[encoded data removed]",
            "text/plain": [
              "<Figure size 432x288 with 1 Axes>"
            ]
          },
          "metadata": {
            "needs_background": "light"
          }
        }
      ]
    }
  ]
}